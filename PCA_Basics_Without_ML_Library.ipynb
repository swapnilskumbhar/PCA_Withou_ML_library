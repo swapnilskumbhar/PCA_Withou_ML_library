{
 "cells": [
  {
   "cell_type": "markdown",
   "metadata": {},
   "source": [
    "# PCA Basics Without Using ML Library"
   ]
  },
  {
   "cell_type": "markdown",
   "metadata": {},
   "source": [
    "PCA stands for principal component analysis which is a popular dimentionality reduction technique. Dimention of the data means how many features does the data have. Not all the features that are available to us are relavant to the problem that we are trying to solve so this technique gives important features according to greatest variance in data. PCA gives us principle components along which the variance of the data is maximum. those principle components are the linear combinations of the existing features that our data have. In this article we will discuss how this technique works and the math behind it,"
   ]
  },
  {
   "cell_type": "markdown",
   "metadata": {},
   "source": [
    "Dimentionality reduction mainly has two parts, Feature selection and feature extraction. Feature selection mostly done manualy with our intuition and the knowledge of the data that we have beforehand. Feature Extraction is combining the existing features to form new features."
   ]
  },
  {
   "cell_type": "markdown",
   "metadata": {},
   "source": [
    "Now lets discuss the basic concepts that we will use in PCA"
   ]
  },
  {
   "cell_type": "markdown",
   "metadata": {},
   "source": [
    "### Lets Start with the statistical concepts,\n",
    "<b>Mean</b> : Mean is just the average of all he datapoints.<br/>\n",
    "<b>Variance</b> : Variance is measure of how spread out your data is around the mean. Which is the average distance of all the datapoints from the mean. For example, if you consider the prices of the devices that apple make then the variance should be low, but if you consider the prices of the devices that samsung makes then the variance is very high.\n",
    "<br/><b>Covariance</b> : is the measure of change of two variables with respect to each another. e.g. lets consider two variables,\n",
    "x and y if by increasing the value of x, y's value also gets increased then the co-variance in them is positive and vice versa.\n",
    "<br/><b>Standardization</b> : The process of transforming data into a dataset whos mean is 0 and variance is 1.\n"
   ]
  },
  {
   "cell_type": "markdown",
   "metadata": {},
   "source": [
    "### Now lets discuss Concepts of Linear Algebra\n",
    "<b>Linear Transformation</b> : lets understand what is the meaning of transformation first, well think of it as a function which takes an input and gives an output. So transformation takes a vector as an input and gives a vector as a output. If you apply some transformation onto the vector space then every vector in the space gets tranformed. After applying the transformation if all the lines are lines and origin hasn't changed its place then that transformation is known as Linear Transformation. If all the vectors gets changed then what about the axis vectors ? Yes! they may change according to transformation. Instead of tracking every vector and its transformation if we track only transformation of the axis vectors then we can get transformation of any vector. Which means to transform any vector into new space we just need the new axis vectors. So what if we want to tranform a vector if we know the axis vector after tranformation ? the answer is using matrix multiplication, if we form a matrix of the axis vectors and multiply it with the vector which we have to tranform then we get the new vector which is the transformed vector into new transformed vector space. After transformation the vector may change its direction and length also. Some vectors length becomes zero.<br/>\n",
    "<b>Eigen Vectors & Eigen Values</b> : After applying transformation if the vector does not change its direction then those vectors are known as Eigen Vectors, and the ratio of the length of the vector before transformation and after transformation is known as eigen value. If eigen value is 2 then the length of the vector increased 2 times than original length."
   ]
  },
  {
   "cell_type": "markdown",
   "metadata": {},
   "source": [
    "So in this context Eigen vectors and eigen values will show us the direction of spread of data and the magnitude of the spread respectively. But eigen vectors and eigen values of what ? we cannot just blindly make the matrix of input data and try to findout its eigen values and eigen vectors we will need a matrix which represents relationship i.e. variance and covariance between all the features. Well if we make a matrix of d*d (d=number of dimentions/features) which will represent the covariance and variance between all the features then we can take eigen vectors and eigen values of that matrix. Well that matrix is known as variance-covariance matrix and it represents relationship between all the features/dimentions."
   ]
  },
  {
   "cell_type": "markdown",
   "metadata": {},
   "source": [
    "PCA can be performed using following steps,\n",
    "1. Standerdize the data\n",
    "2. Find the variance-covariance matrix.\n",
    "3. Find the eigen values and eigen vectors of the matrix.\n",
    "4. Sort according to eigen values as those tells us the magnitude of the spreading of data around that eigen vector.\n",
    "5. Select first n eigen vectors as the axis vectors of your new vector space those are your principal components.\n",
    "6. Transform your data into new vector space.\n",
    "7. Finally after transforming apply the necessary algorithm for getting insight of data.\n",
    "8. Remember that principal components are the linear combination of your existing features (example of feature extraction)"
   ]
  },
  {
   "cell_type": "code",
   "execution_count": 1,
   "metadata": {},
   "outputs": [
    {
     "data": {
      "text/plain": [
       "<matplotlib.collections.PathCollection at 0x8719240>"
      ]
     },
     "execution_count": 1,
     "metadata": {},
     "output_type": "execute_result"
    }
   ],
   "source": [
    "import pandas as pd\n",
    "import numpy as np\n",
    "import matplotlib.pyplot as plt\n",
    "#Collecting the data\n",
    "#For better understanding of the pca i have introduced a less relevant variable in dataset which is built material of the device\n",
    "#0 is metal, 1 is glass, 2 is plastic\n",
    "data_laptop_mobile = pd.read_csv(\"Laptop_mobile_data.csv\")\n",
    "data_laptop_mobile_x = [row[\"RAM\"] for i, row in data_laptop_mobile.iterrows()]\n",
    "data_laptop_mobile_y = [row[\"screen_size\"] for i, row in data_laptop_mobile.iterrows()]\n",
    "data_laptop_mobile_z = [row[\"built\"] for i, row in data_laptop_mobile.iterrows()]\n",
    "plt.scatter(data_laptop_mobile_x,data_laptop_mobile_y)"
   ]
  },
  {
   "cell_type": "code",
   "execution_count": 2,
   "metadata": {},
   "outputs": [],
   "source": [
    "data_array = np.array(list(zip(data_laptop_mobile_x,data_laptop_mobile_y,data_laptop_mobile_z)))"
   ]
  },
  {
   "cell_type": "code",
   "execution_count": 3,
   "metadata": {},
   "outputs": [],
   "source": [
    "standerdized_data_array = data_array - np.mean(data_array,axis=0)\n",
    "var_cov_matrix = np.cov(standerdized_data_array.T)\n",
    "eig_vals,eig_vectors = np.linalg.eig(var_cov_matrix)"
   ]
  },
  {
   "cell_type": "code",
   "execution_count": 4,
   "metadata": {},
   "outputs": [
    {
     "data": {
      "text/plain": [
       "array([21.55304905,  6.76459773,  0.47408   ])"
      ]
     },
     "execution_count": 4,
     "metadata": {},
     "output_type": "execute_result"
    }
   ],
   "source": [
    "#Printing the eigen values\n",
    "eig_vals"
   ]
  },
  {
   "cell_type": "markdown",
   "metadata": {},
   "source": [
    "We can observe eighen value of 1st vector is greater than those of two others which means there is maximum variation along with 1st eigen vector so we will select that vector as our principal component"
   ]
  },
  {
   "cell_type": "code",
   "execution_count": 5,
   "metadata": {},
   "outputs": [
    {
     "data": {
      "text/plain": [
       "array([0.29681664, 0.94330298, 0.14859127])"
      ]
     },
     "execution_count": 5,
     "metadata": {},
     "output_type": "execute_result"
    }
   ],
   "source": [
    "#Luckily no need of the sorting\n",
    "eig_vectors[0]"
   ]
  },
  {
   "cell_type": "markdown",
   "metadata": {},
   "source": [
    "We can see that principal component 1 is linear combination of the features i.e. 0.29 times ram_size + 0.94 times screen_size + 0.14 times built."
   ]
  },
  {
   "cell_type": "markdown",
   "metadata": {},
   "source": [
    "Now if we want to see the variance of the data along with first principal component then,"
   ]
  },
  {
   "cell_type": "code",
   "execution_count": 6,
   "metadata": {},
   "outputs": [
    {
     "data": {
      "text/plain": [
       "74.85848005462489"
      ]
     },
     "execution_count": 6,
     "metadata": {},
     "output_type": "execute_result"
    }
   ],
   "source": [
    "var_along_pc1 = (eig_vals[0]/sum(eig_vals)) * 100\n",
    "var_along_pc1"
   ]
  },
  {
   "cell_type": "markdown",
   "metadata": {},
   "source": [
    "almost 74% of the variation of the data is along pc1 so we will select pc1 as our axis vector and transform our data into new reduced dimention vector space as,"
   ]
  },
  {
   "cell_type": "code",
   "execution_count": 7,
   "metadata": {},
   "outputs": [
    {
     "data": {
      "text/plain": [
       "<matplotlib.collections.PathCollection at 0x8b3bbe0>"
      ]
     },
     "execution_count": 7,
     "metadata": {},
     "output_type": "execute_result"
    },
    {
     "data": {
      "image/png": "[encoded data removed]",
      "text/plain": [
       "<Figure size 432x288 with 1 Axes>"
      ]
     },
     "metadata": {
      "needs_background": "light"
     },
     "output_type": "display_data"
    }
   ],
   "source": [
    "only_one = np.array([eig_vectors[i][0] for i in range(len(eig_vectors))])\n",
    "trans_data = data_array.dot(only_one.T)\n",
    "trans_data = trans_data - np.mean(trans_data)\n",
    "plt.scatter(trans_data,[0 for i in range(8)])"
   ]
  },
  {
   "cell_type": "markdown",
   "metadata": {},
   "source": [
    "This is the final reduced dimentions plot of our data. For comparison if we use scikit learn for the same thing and plot the data then,"
   ]
  },
  {
   "cell_type": "code",
   "execution_count": 8,
   "metadata": {},
   "outputs": [],
   "source": [
    "from sklearn.decomposition import PCA as sklearnPCA\n",
    "sklearn_pca = sklearnPCA(n_components=1)\n",
    "Y_sklearn = sklearn_pca.fit_transform(data_array)"
   ]
  },
  {
   "cell_type": "code",
   "execution_count": 9,
   "metadata": {},
   "outputs": [
    {
     "data": {
      "text/plain": [
       "<matplotlib.collections.PathCollection at 0xb427550>"
      ]
     },
     "execution_count": 9,
     "metadata": {},
     "output_type": "execute_result"
    },
    {
     "data": {
      "image/png": "[encoded data removed]",
      "text/plain": [
       "<Figure size 432x288 with 1 Axes>"
      ]
     },
     "metadata": {
      "needs_background": "light"
     },
     "output_type": "display_data"
    }
   ],
   "source": [
    "plt.scatter(Y_sklearn,[0 for i in range(8)])"
   ]
  },
  {
   "cell_type": "code",
   "execution_count": 10,
   "metadata": {},
   "outputs": [
    {
     "data": {
      "text/plain": [
       "array([-5.42446069, -4.66365727, -4.45042569, -1.93079441,  4.24977467,\n",
       "        5.70821741,  1.78606915,  4.72527681])"
      ]
     },
     "execution_count": 10,
     "metadata": {},
     "output_type": "execute_result"
    }
   ],
   "source": [
    "trans_data"
   ]
  },
  {
   "cell_type": "code",
   "execution_count": 11,
   "metadata": {},
   "outputs": [
    {
     "data": {
      "text/plain": [
       "array([[-5.42446069],\n",
       "       [-4.66365727],\n",
       "       [-4.45042569],\n",
       "       [-1.93079441],\n",
       "       [ 4.24977467],\n",
       "       [ 5.70821741],\n",
       "       [ 1.78606915],\n",
       "       [ 4.72527681]])"
      ]
     },
     "execution_count": 11,
     "metadata": {},
     "output_type": "execute_result"
    }
   ],
   "source": [
    "Y_sklearn"
   ]
  },
  {
   "cell_type": "code",
   "execution_count": 12,
   "metadata": {},
   "outputs": [
    {
     "data": {
      "text/plain": [
       "array([21.55304905,  6.76459773,  0.47408   ])"
      ]
     },
     "execution_count": 12,
     "metadata": {},
     "output_type": "execute_result"
    }
   ],
   "source": [
    "eig_vals"
   ]
  },
  {
   "cell_type": "code",
   "execution_count": 13,
   "metadata": {},
   "outputs": [
    {
     "data": {
      "text/plain": [
       "array([21.55304905])"
      ]
     },
     "execution_count": 13,
     "metadata": {},
     "output_type": "execute_result"
    }
   ],
   "source": [
    "sklearn_pca.explained_variance_"
   ]
  },
  {
   "cell_type": "code",
   "execution_count": 16,
   "metadata": {},
   "outputs": [
    {
     "data": {
      "text/plain": [
       "array([74.85848005])"
      ]
     },
     "execution_count": 16,
     "metadata": {},
     "output_type": "execute_result"
    }
   ],
   "source": [
    "sklearn_pca.explained_variance_ratio_ * 100"
   ]
  },
  {
   "cell_type": "code",
   "execution_count": 15,
   "metadata": {},
   "outputs": [
    {
     "data": {
      "text/plain": [
       "74.85848005462489"
      ]
     },
     "execution_count": 15,
     "metadata": {},
     "output_type": "execute_result"
    }
   ],
   "source": [
    "var_along_pc1"
   ]
  },
  {
   "cell_type": "markdown",
   "metadata": {},
   "source": [
    "You can see that all the values that we calculated are same as scikitlearn values. Now after transforming data we can apply any algorithm for taking insight from the data."
   ]
  }
 ],
 "metadata": {
  "kernelspec": {
   "display_name": "Python 3",
   "language": "python",
   "name": "python3"
  },
  "language_info": {
   "codemirror_mode": {
    "name": "ipython",
    "version": 3
   },
   "file_extension": ".py",
   "mimetype": "text/x-python",
   "name": "python",
   "nbconvert_exporter": "python",
   "pygments_lexer": "ipython3",
   "version": "3.7.1"
  }
 },
 "nbformat": 4,
 "nbformat_minor": 2
}
